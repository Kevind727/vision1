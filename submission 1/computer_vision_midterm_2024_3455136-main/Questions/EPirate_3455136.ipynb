{
 "cells": [
  {
   "cell_type": "code",
   "execution_count": null,
   "id": "5ee4ccbe",
   "metadata": {},
   "outputs": [],
   "source": [
    "\n",
    "import matplotlib.pyplot as plt\n",
    "import numpy as np\n",
    "import random\n",
    "import math\n",
    "from IPython.display import display, HTML\n",
    "    "
   ]
  },
  {
   "cell_type": "code",
   "execution_count": null,
   "id": "dea9bd76",
   "metadata": {},
   "outputs": [],
   "source": [
    "\n",
    "student_id = input(\"Enter your student id\")\n",
    "student_name = input(\"Enter your name\")\n",
    "print(\"STUDENT ID\", student_id)\n",
    "print(\"STUDENT NAME\", student_name)\n"
   ]
  },
  {
   "cell_type": "markdown",
   "id": "a848176f",
   "metadata": {},
   "source": [
    "<!-- <div class=\"question_frame\"> --><!-- start of question_frame -->",
    ""
   ]
  },
  {
   "cell_type": "markdown",
   "id": "e6bb6272",
   "metadata": {},
   "source": [
    "",
    "<h1>Speak Like a Pirate</h1>",
    "<div class=\"question_body\">",
    "",
    "<p>",
    "You want to improve your ability to speak like a pirate, who",
    "are famous for plundering, drinking, and having a funny way of talking.",
    "You hope, this will impress your friends.",
    "</p>",
    "",
    "<p>Pirates speak with the following dialect:</p>",
    "<ol>",
    "<li>Pirates start every sentence with \"Aye\"<br>",
    "<pre>",
    "hello mates                   : Aye hello mates",
    "</pre>",
    "</li>",
    "<li>Pirates like to use consonant 'r' a lot. If an English word has an 'r' in it,",
    "pirates will say it with 'rrr'. But they will never have more than five 'r' in a row.<br>",
    "<pre>",
    "strawberry                    : Aye strrrawberrrrry",
    "</pre>",
    "</li>",
    "<li>Pirates like to drop g's at the end words that end with 'ing'<br>",
    "<pre>",
    "rooting tooting pirates       : Aye rrrootin tootin pirrrates",
    "</pre>",
    "</li>",
    "<li>Pirates will replace 'g' at the end of words with 'gh'<br>",
    "<pre>",
    "snag smug smog                : Aye snagh smugh smogh",
    "</pre>",
    "</li>",
    "",
    "</ol>",
    "",
    "<p>",
    "Implement a python function <code>pirate_speak(s)</code> that given an",
    "input string <code>s</code> will return the pirate version of the string <code>s</code>.",
    "</p>",
    "",
    "",
    "</div><!-- end of question_body -->",
    ""
   ]
  },
  {
   "cell_type": "markdown",
   "id": "bc1d5aa4",
   "metadata": {},
   "source": [
    "",
    "<div class=\"question_marks\">",
    "<span class=\"mark_num\" style=\"text-align:right\">12</span> marks",
    "</div><!-- end of question_marks -->",
    ""
   ]
  },
  {
   "cell_type": "code",
   "execution_count": null,
   "id": "112b9d70",
   "metadata": {},
   "outputs": [],
   "source": [
    "\n",
    "#pirate_speak(\"raising the sails and rudder starboard\") => Aye rrraisin the sails and rrrudderrr starrrboarrrd\n",
    "\n",
    "#pirate_speak(\"drinking more grog\") => Aye drrrinkin morrre grrrogh\n",
    "\n",
    "#pirate_speak(\"matees raise the jolly roger and fire the cannons\") => Aye matees rrraise the jolly rrrogerrr and firrre the cannons\n",
    "\n",
    "def pirate_speak(s):\n",
    "    # Enter your code here\n",
    "    return s  \n"
   ]
  },
  {
   "cell_type": "markdown",
   "id": "ad8a9774",
   "metadata": {},
   "source": [
    "<p>Show your work and explain your answer in this cell. You can add additional markdown and code cells, if you want to after this cell.</p>"
   ]
  },
  {
   "cell_type": "code",
   "execution_count": null,
   "id": "3b17cb14",
   "metadata": {},
   "outputs": [],
   "source": [
    "\n",
    "# Here are some sample tests to check your program. \n",
    "# The examiner will use additional tests to verify that your program deals with\n",
    "# edge cases, such as empty strings as input etc.\n",
    "\n",
    "tests = [('raising the sails and rudder starboard', 'Aye rrraisin the sails and rrrudderrr starrrboarrrd'), ('drinking more grog', 'Aye drrrinkin morrre grrrogh'), ('matees raise the jolly roger and fire the cannons', 'Aye matees rrraise the jolly rrrogerrr and firrre the cannons')]\n",
    "\n",
    "for ti, to in tests:\n",
    "    a = pirate_speak(ti)\n",
    "    res = True if (to == a) else False\n",
    "    print(ti, \"=>\", a, \":\", to, \"correct\",res) \n"
   ]
  },
  {
   "cell_type": "markdown",
   "id": "4eb7a290",
   "metadata": {},
   "source": [
    "<!-- </div> --><!-- end of question_frame -->",
    ""
   ]
  },
  {
   "cell_type": "markdown",
   "id": "94ee36c0",
   "metadata": {},
   "source": [
    "<!-- <div class=\"question_frame\"> --><!-- start of question_frame -->",
    ""
   ]
  },
  {
   "cell_type": "markdown",
   "id": "26a7ab6e",
   "metadata": {},
   "source": [
    "",
    "<h1>Computational Complexity</h1>",
    "<div class=\"question_body\">",
    "",
    "<p>",
    "Assume that your program is processing a string of 42 characters.",
    "The worst case runtime of your algorithm is 111930.0 milliseconds.",
    "</p>",
    "",
    "<p>Increasing the size of the string will also increase the worst case runtime of",
    "your algorithm.</p>",
    "",
    "</div><!-- end of question_body -->",
    ""
   ]
  },
  {
   "cell_type": "markdown",
   "id": "4af8e545",
   "metadata": {},
   "source": [
    "",
    "<div class=\"question_marks\">",
    "<span class=\"mark_num\" style=\"text-align:right\">4</span> marks",
    "</div><!-- end of question_marks -->",
    ""
   ]
  },
  {
   "cell_type": "markdown",
   "id": "cf27684b",
   "metadata": {},
   "source": [
    "",
    "<p>Estimate the runtime of your program, given that the new string",
    "contains 84 characters.</p>",
    "",
    "<p>",
    "Estimated runtime milliseconds:<input type=\"number\"></input> milliseconds",
    "</p>",
    ""
   ]
  },
  {
   "cell_type": "markdown",
   "id": "baf849f8",
   "metadata": {},
   "source": [
    "<p>Show your work and explain your answer in this cell. You can add additional markdown and code cells, if you want to after this cell.</p>"
   ]
  },
  {
   "cell_type": "markdown",
   "id": "fc2e940a",
   "metadata": {},
   "source": [
    "<!-- </div> --><!-- end of question_frame -->",
    ""
   ]
  }
 ],
 "metadata": {},
 "nbformat": 4,
 "nbformat_minor": 5
}
